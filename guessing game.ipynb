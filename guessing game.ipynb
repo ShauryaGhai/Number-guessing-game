{
 "cells": [
  {
   "cell_type": "code",
   "execution_count": 9,
   "id": "1ed411ae",
   "metadata": {},
   "outputs": [
    {
     "name": "stdout",
     "output_type": "stream",
     "text": [
      "enter your guess3\n",
      "higher\n",
      "enter the number4\n",
      "higher\n",
      "enter the number5\n",
      "computer choice= 5 you got it\n"
     ]
    }
   ],
   "source": [
    "import random\n",
    "comp_choice=random.randint(1,5)\n",
    "user_choice=int(input('enter your guess'))\n",
    "if user_choice==comp_choice:\n",
    "    print('computer choice=',comp_choice,'you got it')\n",
    "elif user_choice<comp_choice:\n",
    "    print('higher')\n",
    "    user_choice2=int(input('enter the number'))\n",
    "    if user_choice2==comp_choice:\n",
    "        print('computer choice=',comp_choice,'you got it')\n",
    "    elif user_choice2<comp_choice:\n",
    "        print('higher')\n",
    "        user_choice3=int(input('enter the number'))\n",
    "        if user_choice3==comp_choice:\n",
    "            print('computer choice=',comp_choice,'you got it')\n",
    "        else:\n",
    "            print('maximum attempts')\n",
    "    else:\n",
    "        print('lower')\n",
    "        user_choice3=int(input('enter the number'))\n",
    "        if user_choice3==comp_choice:\n",
    "            print('computer choice=',comp_choice,'you got it')\n",
    "        else:\n",
    "            print('maximum attempts')\n",
    "else:\n",
    "    print('lower')\n",
    "    user_choice2=int(input('enter the number'))\n",
    "    if user_choice2==comp_choice:\n",
    "        print('computer choice=',comp_choice,'you got it')\n",
    "    elif user_choice2<comp_choice:\n",
    "        print('higher')\n",
    "    else:\n",
    "        print('lower')\n",
    "        user_choice3=int(input('enter the number'))\n",
    "        if user_choice3==comp_choice:\n",
    "            print('computer choice=',comp_choice,'you got it')\n",
    "        else:\n",
    "            print('maximum attempts')\n",
    "            "
   ]
  },
  {
   "cell_type": "code",
   "execution_count": 7,
   "id": "0a206a23",
   "metadata": {},
   "outputs": [
    {
     "name": "stdout",
     "output_type": "stream",
     "text": [
      "enter your guess7\n",
      "please guess a lower number\n",
      "enter your guess6\n",
      "please guess a lower number\n",
      "enter your guess3\n",
      "please guess a lower number\n",
      "enter your guess4\n",
      "please guess a lower number\n",
      "enter your guess2\n",
      "computer choice= 2 you got it\n"
     ]
    }
   ],
   "source": [
    "import random\n",
    "user_choice=0\n",
    "comp_choice=random.randint(1,10)\n",
    "while user_choice!=comp_choice:\n",
    "    user_choice=int(input('enter your guess'))\n",
    "    if user_choice<comp_choice:\n",
    "        print('please guess a higher number')\n",
    "    elif user_choice>comp_choice:\n",
    "        print('please guess a lower number')\n",
    "    else:\n",
    "        print('computer choice=',comp_choice,'you got it')"
   ]
  },
  {
   "cell_type": "code",
   "execution_count": null,
   "id": "185d56a1",
   "metadata": {},
   "outputs": [],
   "source": []
  }
 ],
 "metadata": {
  "kernelspec": {
   "display_name": "Python 3 (ipykernel)",
   "language": "python",
   "name": "python3"
  },
  "language_info": {
   "codemirror_mode": {
    "name": "ipython",
    "version": 3
   },
   "file_extension": ".py",
   "mimetype": "text/x-python",
   "name": "python",
   "nbconvert_exporter": "python",
   "pygments_lexer": "ipython3",
   "version": "3.9.12"
  }
 },
 "nbformat": 4,
 "nbformat_minor": 5
}
